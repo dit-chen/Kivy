{
  "nbformat": 4,
  "nbformat_minor": 0,
  "metadata": {
    "colab": {
      "name": "KivyApp to APK.ipynb",
      "provenance": [],
      "collapsed_sections": [],
      "include_colab_link": true
    },
    "kernelspec": {
      "name": "python3",
      "display_name": "Python 3"
    }
  },
  "cells": [
    {
      "cell_type": "markdown",
      "metadata": {
        "id": "view-in-github",
        "colab_type": "text"
      },
      "source": [
        "<a href=\"https://colab.research.google.com/github/dit-chen/Kivy/blob/main/KivyApp_to_APK.ipynb\" target=\"_parent\"><img src=\"https://colab.research.google.com/assets/colab-badge.svg\" alt=\"Open In Colab\"/></a>"
      ]
    },
    {
      "cell_type": "markdown",
      "metadata": {
        "id": "0fwKVrRbHtMC"
      },
      "source": [
        "左側の再生ボタンをクリックしてこのセルを実行し、実行されたら、[ファイルの選択]をクリックしてmain.pyをアップロードし、100％完了するまで待ちます"
      ]
    },
    {
      "cell_type": "code",
      "metadata": {
        "id": "wgQalMKx4Y3w",
        "colab": {
          "resources": {
            "http://localhost:8080/nbextensions/google.colab/files.js": {
              "data": "Ly8gQ29weXJpZ2h0IDIwMTcgR29vZ2xlIExMQwovLwovLyBMaWNlbnNlZCB1bmRlciB0aGUgQXBhY2hlIExpY2Vuc2UsIFZlcnNpb24gMi4wICh0aGUgIkxpY2Vuc2UiKTsKLy8geW91IG1heSBub3QgdXNlIHRoaXMgZmlsZSBleGNlcHQgaW4gY29tcGxpYW5jZSB3aXRoIHRoZSBMaWNlbnNlLgovLyBZb3UgbWF5IG9idGFpbiBhIGNvcHkgb2YgdGhlIExpY2Vuc2UgYXQKLy8KLy8gICAgICBodHRwOi8vd3d3LmFwYWNoZS5vcmcvbGljZW5zZXMvTElDRU5TRS0yLjAKLy8KLy8gVW5sZXNzIHJlcXVpcmVkIGJ5IGFwcGxpY2FibGUgbGF3IG9yIGFncmVlZCB0byBpbiB3cml0aW5nLCBzb2Z0d2FyZQovLyBkaXN0cmlidXRlZCB1bmRlciB0aGUgTGljZW5zZSBpcyBkaXN0cmlidXRlZCBvbiBhbiAiQVMgSVMiIEJBU0lTLAovLyBXSVRIT1VUIFdBUlJBTlRJRVMgT1IgQ09ORElUSU9OUyBPRiBBTlkgS0lORCwgZWl0aGVyIGV4cHJlc3Mgb3IgaW1wbGllZC4KLy8gU2VlIHRoZSBMaWNlbnNlIGZvciB0aGUgc3BlY2lmaWMgbGFuZ3VhZ2UgZ292ZXJuaW5nIHBlcm1pc3Npb25zIGFuZAovLyBsaW1pdGF0aW9ucyB1bmRlciB0aGUgTGljZW5zZS4KCi8qKgogKiBAZmlsZW92ZXJ2aWV3IEhlbHBlcnMgZm9yIGdvb2dsZS5jb2xhYiBQeXRob24gbW9kdWxlLgogKi8KKGZ1bmN0aW9uKHNjb3BlKSB7CmZ1bmN0aW9uIHNwYW4odGV4dCwgc3R5bGVBdHRyaWJ1dGVzID0ge30pIHsKICBjb25zdCBlbGVtZW50ID0gZG9jdW1lbnQuY3JlYXRlRWxlbWVudCgnc3BhbicpOwogIGVsZW1lbnQudGV4dENvbnRlbnQgPSB0ZXh0OwogIGZvciAoY29uc3Qga2V5IG9mIE9iamVjdC5rZXlzKHN0eWxlQXR0cmlidXRlcykpIHsKICAgIGVsZW1lbnQuc3R5bGVba2V5XSA9IHN0eWxlQXR0cmlidXRlc1trZXldOwogIH0KICByZXR1cm4gZWxlbWVudDsKfQoKLy8gTWF4IG51bWJlciBvZiBieXRlcyB3aGljaCB3aWxsIGJlIHVwbG9hZGVkIGF0IGEgdGltZS4KY29uc3QgTUFYX1BBWUxPQURfU0laRSA9IDEwMCAqIDEwMjQ7CgpmdW5jdGlvbiBfdXBsb2FkRmlsZXMoaW5wdXRJZCwgb3V0cHV0SWQpIHsKICBjb25zdCBzdGVwcyA9IHVwbG9hZEZpbGVzU3RlcChpbnB1dElkLCBvdXRwdXRJZCk7CiAgY29uc3Qgb3V0cHV0RWxlbWVudCA9IGRvY3VtZW50LmdldEVsZW1lbnRCeUlkKG91dHB1dElkKTsKICAvLyBDYWNoZSBzdGVwcyBvbiB0aGUgb3V0cHV0RWxlbWVudCB0byBtYWtlIGl0IGF2YWlsYWJsZSBmb3IgdGhlIG5leHQgY2FsbAogIC8vIHRvIHVwbG9hZEZpbGVzQ29udGludWUgZnJvbSBQeXRob24uCiAgb3V0cHV0RWxlbWVudC5zdGVwcyA9IHN0ZXBzOwoKICByZXR1cm4gX3VwbG9hZEZpbGVzQ29udGludWUob3V0cHV0SWQpOwp9CgovLyBUaGlzIGlzIHJvdWdobHkgYW4gYXN5bmMgZ2VuZXJhdG9yIChub3Qgc3VwcG9ydGVkIGluIHRoZSBicm93c2VyIHlldCksCi8vIHdoZXJlIHRoZXJlIGFyZSBtdWx0aXBsZSBhc3luY2hyb25vdXMgc3RlcHMgYW5kIHRoZSBQeXRob24gc2lkZSBpcyBnb2luZwovLyB0byBwb2xsIGZvciBjb21wbGV0aW9uIG9mIGVhY2ggc3RlcC4KLy8gVGhpcyB1c2VzIGEgUHJvbWlzZSB0byBibG9jayB0aGUgcHl0aG9uIHNpZGUgb24gY29tcGxldGlvbiBvZiBlYWNoIHN0ZXAsCi8vIHRoZW4gcGFzc2VzIHRoZSByZXN1bHQgb2YgdGhlIHByZXZpb3VzIHN0ZXAgYXMgdGhlIGlucHV0IHRvIHRoZSBuZXh0IHN0ZXAuCmZ1bmN0aW9uIF91cGxvYWRGaWxlc0NvbnRpbnVlKG91dHB1dElkKSB7CiAgY29uc3Qgb3V0cHV0RWxlbWVudCA9IGRvY3VtZW50LmdldEVsZW1lbnRCeUlkKG91dHB1dElkKTsKICBjb25zdCBzdGVwcyA9IG91dHB1dEVsZW1lbnQuc3RlcHM7CgogIGNvbnN0IG5leHQgPSBzdGVwcy5uZXh0KG91dHB1dEVsZW1lbnQubGFzdFByb21pc2VWYWx1ZSk7CiAgcmV0dXJuIFByb21pc2UucmVzb2x2ZShuZXh0LnZhbHVlLnByb21pc2UpLnRoZW4oKHZhbHVlKSA9PiB7CiAgICAvLyBDYWNoZSB0aGUgbGFzdCBwcm9taXNlIHZhbHVlIHRvIG1ha2UgaXQgYXZhaWxhYmxlIHRvIHRoZSBuZXh0CiAgICAvLyBzdGVwIG9mIHRoZSBnZW5lcmF0b3IuCiAgICBvdXRwdXRFbGVtZW50Lmxhc3RQcm9taXNlVmFsdWUgPSB2YWx1ZTsKICAgIHJldHVybiBuZXh0LnZhbHVlLnJlc3BvbnNlOwogIH0pOwp9CgovKioKICogR2VuZXJhdG9yIGZ1bmN0aW9uIHdoaWNoIGlzIGNhbGxlZCBiZXR3ZWVuIGVhY2ggYXN5bmMgc3RlcCBvZiB0aGUgdXBsb2FkCiAqIHByb2Nlc3MuCiAqIEBwYXJhbSB7c3RyaW5nfSBpbnB1dElkIEVsZW1lbnQgSUQgb2YgdGhlIGlucHV0IGZpbGUgcGlja2VyIGVsZW1lbnQuCiAqIEBwYXJhbSB7c3RyaW5nfSBvdXRwdXRJZCBFbGVtZW50IElEIG9mIHRoZSBvdXRwdXQgZGlzcGxheS4KICogQHJldHVybiB7IUl0ZXJhYmxlPCFPYmplY3Q+fSBJdGVyYWJsZSBvZiBuZXh0IHN0ZXBzLgogKi8KZnVuY3Rpb24qIHVwbG9hZEZpbGVzU3RlcChpbnB1dElkLCBvdXRwdXRJZCkgewogIGNvbnN0IGlucHV0RWxlbWVudCA9IGRvY3VtZW50LmdldEVsZW1lbnRCeUlkKGlucHV0SWQpOwogIGlucHV0RWxlbWVudC5kaXNhYmxlZCA9IGZhbHNlOwoKICBjb25zdCBvdXRwdXRFbGVtZW50ID0gZG9jdW1lbnQuZ2V0RWxlbWVudEJ5SWQob3V0cHV0SWQpOwogIG91dHB1dEVsZW1lbnQuaW5uZXJIVE1MID0gJyc7CgogIGNvbnN0IHBpY2tlZFByb21pc2UgPSBuZXcgUHJvbWlzZSgocmVzb2x2ZSkgPT4gewogICAgaW5wdXRFbGVtZW50LmFkZEV2ZW50TGlzdGVuZXIoJ2NoYW5nZScsIChlKSA9PiB7CiAgICAgIHJlc29sdmUoZS50YXJnZXQuZmlsZXMpOwogICAgfSk7CiAgfSk7CgogIGNvbnN0IGNhbmNlbCA9IGRvY3VtZW50LmNyZWF0ZUVsZW1lbnQoJ2J1dHRvbicpOwogIGlucHV0RWxlbWVudC5wYXJlbnRFbGVtZW50LmFwcGVuZENoaWxkKGNhbmNlbCk7CiAgY2FuY2VsLnRleHRDb250ZW50ID0gJ0NhbmNlbCB1cGxvYWQnOwogIGNvbnN0IGNhbmNlbFByb21pc2UgPSBuZXcgUHJvbWlzZSgocmVzb2x2ZSkgPT4gewogICAgY2FuY2VsLm9uY2xpY2sgPSAoKSA9PiB7CiAgICAgIHJlc29sdmUobnVsbCk7CiAgICB9OwogIH0pOwoKICAvLyBXYWl0IGZvciB0aGUgdXNlciB0byBwaWNrIHRoZSBmaWxlcy4KICBjb25zdCBmaWxlcyA9IHlpZWxkIHsKICAgIHByb21pc2U6IFByb21pc2UucmFjZShbcGlja2VkUHJvbWlzZSwgY2FuY2VsUHJvbWlzZV0pLAogICAgcmVzcG9uc2U6IHsKICAgICAgYWN0aW9uOiAnc3RhcnRpbmcnLAogICAgfQogIH07CgogIGNhbmNlbC5yZW1vdmUoKTsKCiAgLy8gRGlzYWJsZSB0aGUgaW5wdXQgZWxlbWVudCBzaW5jZSBmdXJ0aGVyIHBpY2tzIGFyZSBub3QgYWxsb3dlZC4KICBpbnB1dEVsZW1lbnQuZGlzYWJsZWQgPSB0cnVlOwoKICBpZiAoIWZpbGVzKSB7CiAgICByZXR1cm4gewogICAgICByZXNwb25zZTogewogICAgICAgIGFjdGlvbjogJ2NvbXBsZXRlJywKICAgICAgfQogICAgfTsKICB9CgogIGZvciAoY29uc3QgZmlsZSBvZiBmaWxlcykgewogICAgY29uc3QgbGkgPSBkb2N1bWVudC5jcmVhdGVFbGVtZW50KCdsaScpOwogICAgbGkuYXBwZW5kKHNwYW4oZmlsZS5uYW1lLCB7Zm9udFdlaWdodDogJ2JvbGQnfSkpOwogICAgbGkuYXBwZW5kKHNwYW4oCiAgICAgICAgYCgke2ZpbGUudHlwZSB8fCAnbi9hJ30pIC0gJHtmaWxlLnNpemV9IGJ5dGVzLCBgICsKICAgICAgICBgbGFzdCBtb2RpZmllZDogJHsKICAgICAgICAgICAgZmlsZS5sYXN0TW9kaWZpZWREYXRlID8gZmlsZS5sYXN0TW9kaWZpZWREYXRlLnRvTG9jYWxlRGF0ZVN0cmluZygpIDoKICAgICAgICAgICAgICAgICAgICAgICAgICAgICAgICAgICAgJ24vYSd9IC0gYCkpOwogICAgY29uc3QgcGVyY2VudCA9IHNwYW4oJzAlIGRvbmUnKTsKICAgIGxpLmFwcGVuZENoaWxkKHBlcmNlbnQpOwoKICAgIG91dHB1dEVsZW1lbnQuYXBwZW5kQ2hpbGQobGkpOwoKICAgIGNvbnN0IGZpbGVEYXRhUHJvbWlzZSA9IG5ldyBQcm9taXNlKChyZXNvbHZlKSA9PiB7CiAgICAgIGNvbnN0IHJlYWRlciA9IG5ldyBGaWxlUmVhZGVyKCk7CiAgICAgIHJlYWRlci5vbmxvYWQgPSAoZSkgPT4gewogICAgICAgIHJlc29sdmUoZS50YXJnZXQucmVzdWx0KTsKICAgICAgfTsKICAgICAgcmVhZGVyLnJlYWRBc0FycmF5QnVmZmVyKGZpbGUpOwogICAgfSk7CiAgICAvLyBXYWl0IGZvciB0aGUgZGF0YSB0byBiZSByZWFkeS4KICAgIGxldCBmaWxlRGF0YSA9IHlpZWxkIHsKICAgICAgcHJvbWlzZTogZmlsZURhdGFQcm9taXNlLAogICAgICByZXNwb25zZTogewogICAgICAgIGFjdGlvbjogJ2NvbnRpbnVlJywKICAgICAgfQogICAgfTsKCiAgICAvLyBVc2UgYSBjaHVua2VkIHNlbmRpbmcgdG8gYXZvaWQgbWVzc2FnZSBzaXplIGxpbWl0cy4gU2VlIGIvNjIxMTU2NjAuCiAgICBsZXQgcG9zaXRpb24gPSAwOwogICAgZG8gewogICAgICBjb25zdCBsZW5ndGggPSBNYXRoLm1pbihmaWxlRGF0YS5ieXRlTGVuZ3RoIC0gcG9zaXRpb24sIE1BWF9QQVlMT0FEX1NJWkUpOwogICAgICBjb25zdCBjaHVuayA9IG5ldyBVaW50OEFycmF5KGZpbGVEYXRhLCBwb3NpdGlvbiwgbGVuZ3RoKTsKICAgICAgcG9zaXRpb24gKz0gbGVuZ3RoOwoKICAgICAgY29uc3QgYmFzZTY0ID0gYnRvYShTdHJpbmcuZnJvbUNoYXJDb2RlLmFwcGx5KG51bGwsIGNodW5rKSk7CiAgICAgIHlpZWxkIHsKICAgICAgICByZXNwb25zZTogewogICAgICAgICAgYWN0aW9uOiAnYXBwZW5kJywKICAgICAgICAgIGZpbGU6IGZpbGUubmFtZSwKICAgICAgICAgIGRhdGE6IGJhc2U2NCwKICAgICAgICB9LAogICAgICB9OwoKICAgICAgbGV0IHBlcmNlbnREb25lID0gZmlsZURhdGEuYnl0ZUxlbmd0aCA9PT0gMCA/CiAgICAgICAgICAxMDAgOgogICAgICAgICAgTWF0aC5yb3VuZCgocG9zaXRpb24gLyBmaWxlRGF0YS5ieXRlTGVuZ3RoKSAqIDEwMCk7CiAgICAgIHBlcmNlbnQudGV4dENvbnRlbnQgPSBgJHtwZXJjZW50RG9uZX0lIGRvbmVgOwoKICAgIH0gd2hpbGUgKHBvc2l0aW9uIDwgZmlsZURhdGEuYnl0ZUxlbmd0aCk7CiAgfQoKICAvLyBBbGwgZG9uZS4KICB5aWVsZCB7CiAgICByZXNwb25zZTogewogICAgICBhY3Rpb246ICdjb21wbGV0ZScsCiAgICB9CiAgfTsKfQoKc2NvcGUuZ29vZ2xlID0gc2NvcGUuZ29vZ2xlIHx8IHt9OwpzY29wZS5nb29nbGUuY29sYWIgPSBzY29wZS5nb29nbGUuY29sYWIgfHwge307CnNjb3BlLmdvb2dsZS5jb2xhYi5fZmlsZXMgPSB7CiAgX3VwbG9hZEZpbGVzLAogIF91cGxvYWRGaWxlc0NvbnRpbnVlLAp9Owp9KShzZWxmKTsK",
              "ok": true,
              "headers": [
                [
                  "content-type",
                  "application/javascript"
                ]
              ],
              "status": 200,
              "status_text": "OK"
            }
          },
          "base_uri": "https://localhost:8080/",
          "height": 114
        },
        "outputId": "4c1113b4-8f8f-4977-f955-5f2367ff709b"
      },
      "source": [
        "from google.colab import files\n",
        "files.upload()"
      ],
      "execution_count": null,
      "outputs": [
        {
          "output_type": "display_data",
          "data": {
            "text/html": [
              "\n",
              "     <input type=\"file\" id=\"files-ef754cc9-48e5-485b-9d95-98850d9b34fd\" name=\"files[]\" multiple disabled\n",
              "        style=\"border:none\" />\n",
              "     <output id=\"result-ef754cc9-48e5-485b-9d95-98850d9b34fd\">\n",
              "      Upload widget is only available when the cell has been executed in the\n",
              "      current browser session. Please rerun this cell to enable.\n",
              "      </output>\n",
              "      <script src=\"/nbextensions/google.colab/files.js\"></script> "
            ],
            "text/plain": [
              "<IPython.core.display.HTML object>"
            ]
          },
          "metadata": {
            "tags": []
          }
        },
        {
          "output_type": "stream",
          "text": [
            "Saving main.py to main (1).py\n"
          ],
          "name": "stdout"
        },
        {
          "output_type": "execute_result",
          "data": {
            "text/plain": [
              "{'main.py': b\"from kivy.app import App\\nfrom kivy.uix.button import Button\\n\\nclass MyApp( App ):\\n\\tdef build( self ):\\n\\t\\treturn Button( text='Hello, world.' )\\n\\nMyApp().run()\\n\"}"
            ]
          },
          "metadata": {
            "tags": []
          },
          "execution_count": 11
        }
      ]
    },
    {
      "cell_type": "markdown",
      "metadata": {
        "id": "jwkLaSWkI1xU"
      },
      "source": [
        "main.pyがそこにあるかどうかを確認します"
      ]
    },
    {
      "cell_type": "code",
      "metadata": {
        "id": "6A-DYHvK4xA0",
        "colab": {
          "base_uri": "https://localhost:8080/"
        },
        "outputId": "def64209-d285-44b0-bfe5-5e8d9f176793"
      },
      "source": [
        "!ls"
      ],
      "execution_count": null,
      "outputs": [
        {
          "output_type": "stream",
          "text": [
            "bin  main.py  sample_data\n"
          ],
          "name": "stdout"
        }
      ]
    },
    {
      "cell_type": "code",
      "metadata": {
        "id": "Yzg0jnV7dHTp",
        "colab": {
          "base_uri": "https://localhost:8080/"
        },
        "outputId": "bbc2fb83-370a-4b52-a832-8eb6248fbc39"
      },
      "source": [
        "!pip install buildozer"
      ],
      "execution_count": null,
      "outputs": [
        {
          "output_type": "stream",
          "text": [
            "Requirement already satisfied: buildozer in /usr/local/lib/python3.7/dist-packages (1.2.0)\n",
            "Requirement already satisfied: sh in /usr/local/lib/python3.7/dist-packages (from buildozer) (1.14.2)\n",
            "Requirement already satisfied: pexpect in /usr/local/lib/python3.7/dist-packages (from buildozer) (4.8.0)\n",
            "Requirement already satisfied: virtualenv in /usr/local/lib/python3.7/dist-packages (from buildozer) (20.4.7)\n",
            "Requirement already satisfied: ptyprocess>=0.5 in /usr/local/lib/python3.7/dist-packages (from pexpect->buildozer) (0.7.0)\n",
            "Requirement already satisfied: six<2,>=1.9.0 in /usr/local/lib/python3.7/dist-packages (from virtualenv->buildozer) (1.15.0)\n",
            "Requirement already satisfied: appdirs<2,>=1.4.3 in /usr/local/lib/python3.7/dist-packages (from virtualenv->buildozer) (1.4.4)\n",
            "Requirement already satisfied: importlib-metadata>=0.12; python_version < \"3.8\" in /usr/local/lib/python3.7/dist-packages (from virtualenv->buildozer) (4.6.0)\n",
            "Requirement already satisfied: distlib<1,>=0.3.1 in /usr/local/lib/python3.7/dist-packages (from virtualenv->buildozer) (0.3.2)\n",
            "Requirement already satisfied: filelock<4,>=3.0.0 in /usr/local/lib/python3.7/dist-packages (from virtualenv->buildozer) (3.0.12)\n",
            "Requirement already satisfied: zipp>=0.5 in /usr/local/lib/python3.7/dist-packages (from importlib-metadata>=0.12; python_version < \"3.8\"->virtualenv->buildozer) (3.4.1)\n",
            "Requirement already satisfied: typing-extensions>=3.6.4; python_version < \"3.8\" in /usr/local/lib/python3.7/dist-packages (from importlib-metadata>=0.12; python_version < \"3.8\"->virtualenv->buildozer) (3.7.4.3)\n"
          ],
          "name": "stdout"
        }
      ]
    },
    {
      "cell_type": "code",
      "metadata": {
        "id": "XX3isEFydNar",
        "colab": {
          "base_uri": "https://localhost:8080/"
        },
        "outputId": "07351806-f9b5-4f02-f8ec-b71d1c5be41d"
      },
      "source": [
        "!pip install cython==0.29.19"
      ],
      "execution_count": null,
      "outputs": [
        {
          "output_type": "stream",
          "text": [
            "Requirement already satisfied: cython==0.29.19 in /usr/local/lib/python3.7/dist-packages (0.29.19)\n"
          ],
          "name": "stdout"
        }
      ]
    },
    {
      "cell_type": "code",
      "metadata": {
        "id": "QZRYW9UvdcDt",
        "colab": {
          "base_uri": "https://localhost:8080/"
        },
        "outputId": "4d9c20e8-36b8-4180-d00c-79f69f709355"
      },
      "source": [
        "!sudo apt-get install -y \\\n",
        "    python3-pip \\\n",
        "    build-essential \\\n",
        "    git \\\n",
        "    python3 \\\n",
        "    python3-dev \\\n",
        "    ffmpeg \\\n",
        "    libsdl2-dev \\\n",
        "    libsdl2-image-dev \\\n",
        "    libsdl2-mixer-dev \\\n",
        "    libsdl2-ttf-dev \\\n",
        "    libportmidi-dev \\\n",
        "    libswscale-dev \\\n",
        "    libavformat-dev \\\n",
        "    libavcodec-dev \\\n",
        "    zlib1g-dev"
      ],
      "execution_count": null,
      "outputs": [
        {
          "output_type": "stream",
          "text": [
            "Reading package lists... Done\n",
            "Building dependency tree       \n",
            "Reading state information... Done\n",
            "build-essential is already the newest version (12.4ubuntu1).\n",
            "zlib1g-dev is already the newest version (1:1.2.11.dfsg-0ubuntu2).\n",
            "libportmidi-dev is already the newest version (1:217-6).\n",
            "libsdl2-image-dev is already the newest version (2.0.3+dfsg1-1).\n",
            "libsdl2-mixer-dev is already the newest version (2.0.2+dfsg1-2).\n",
            "libsdl2-ttf-dev is already the newest version (2.0.14+dfsg1-2).\n",
            "git is already the newest version (1:2.17.1-1ubuntu0.8).\n",
            "python3 is already the newest version (3.6.7-1~18.04).\n",
            "python3-dev is already the newest version (3.6.7-1~18.04).\n",
            "ffmpeg is already the newest version (7:3.4.8-0ubuntu0.2).\n",
            "libavcodec-dev is already the newest version (7:3.4.8-0ubuntu0.2).\n",
            "libavformat-dev is already the newest version (7:3.4.8-0ubuntu0.2).\n",
            "libsdl2-dev is already the newest version (2.0.8+dfsg1-1ubuntu1.18.04.4).\n",
            "libswscale-dev is already the newest version (7:3.4.8-0ubuntu0.2).\n",
            "python3-pip is already the newest version (9.0.1-2.3~ubuntu1.18.04.5).\n",
            "0 upgraded, 0 newly installed, 0 to remove and 38 not upgraded.\n"
          ],
          "name": "stdout"
        }
      ]
    },
    {
      "cell_type": "code",
      "metadata": {
        "id": "S9Z7KfTOnXuZ",
        "colab": {
          "base_uri": "https://localhost:8080/"
        },
        "outputId": "b87d9b06-3cde-4506-bafd-305267e5dfa3"
      },
      "source": [
        "!sudo apt-get install -y \\\n",
        "    libgstreamer1.0 \\\n",
        "    gstreamer1.0-plugins-base \\\n",
        "    gstreamer1.0-plugins-good"
      ],
      "execution_count": null,
      "outputs": [
        {
          "output_type": "stream",
          "text": [
            "Reading package lists... Done\n",
            "Building dependency tree       \n",
            "Reading state information... Done\n",
            "Note, selecting 'libgstreamer1.0-dev' for regex 'libgstreamer1.0'\n",
            "Note, selecting 'libgstreamer1.0-0-dbg' for regex 'libgstreamer1.0'\n",
            "Note, selecting 'libgstreamer1.0-0' for regex 'libgstreamer1.0'\n",
            "gstreamer1.0-plugins-base is already the newest version (1.14.5-0ubuntu1~18.04.3).\n",
            "gstreamer1.0-plugins-good is already the newest version (1.14.5-0ubuntu1~18.04.2).\n",
            "libgstreamer1.0-0 is already the newest version (1.14.5-0ubuntu1~18.04.2).\n",
            "libgstreamer1.0-0-dbg is already the newest version (1.14.5-0ubuntu1~18.04.2).\n",
            "libgstreamer1.0-dev is already the newest version (1.14.5-0ubuntu1~18.04.2).\n",
            "0 upgraded, 0 newly installed, 0 to remove and 38 not upgraded.\n"
          ],
          "name": "stdout"
        }
      ]
    },
    {
      "cell_type": "code",
      "metadata": {
        "id": "Gjp7v6bTnd5V",
        "colab": {
          "base_uri": "https://localhost:8080/"
        },
        "outputId": "3fc4be68-1462-4a1c-8db9-56c264b2b791"
      },
      "source": [
        "!sudo apt-get install build-essential libsqlite3-dev sqlite3 bzip2 libbz2-dev zlib1g-dev libssl-dev openssl libgdbm-dev libgdbm-compat-dev liblzma-dev libreadline-dev libncursesw5-dev libffi-dev uuid-dev libffi6"
      ],
      "execution_count": null,
      "outputs": [
        {
          "output_type": "stream",
          "text": [
            "Reading package lists... Done\n",
            "Building dependency tree       \n",
            "Reading state information... Done\n",
            "build-essential is already the newest version (12.4ubuntu1).\n",
            "libffi-dev is already the newest version (3.2.1-8).\n",
            "libffi6 is already the newest version (3.2.1-8).\n",
            "libgdbm-compat-dev is already the newest version (1.14.1-6).\n",
            "libgdbm-dev is already the newest version (1.14.1-6).\n",
            "liblzma-dev is already the newest version (5.2.2-1.3).\n",
            "libreadline-dev is already the newest version (7.0-3).\n",
            "zlib1g-dev is already the newest version (1:1.2.11.dfsg-0ubuntu2).\n",
            "bzip2 is already the newest version (1.0.6-8.1ubuntu0.2).\n",
            "libbz2-dev is already the newest version (1.0.6-8.1ubuntu0.2).\n",
            "libncursesw5-dev is already the newest version (6.1-1ubuntu1.18.04).\n",
            "libsqlite3-dev is already the newest version (3.22.0-1ubuntu0.4).\n",
            "libssl-dev is already the newest version (1.1.1-1ubuntu2.1~18.04.9).\n",
            "openssl is already the newest version (1.1.1-1ubuntu2.1~18.04.9).\n",
            "openssl set to manually installed.\n",
            "sqlite3 is already the newest version (3.22.0-1ubuntu0.4).\n",
            "uuid-dev is already the newest version (2.31.1-0.4ubuntu3.7).\n",
            "0 upgraded, 0 newly installed, 0 to remove and 38 not upgraded.\n"
          ],
          "name": "stdout"
        }
      ]
    },
    {
      "cell_type": "code",
      "metadata": {
        "id": "DA3BNyuKnrI1",
        "colab": {
          "base_uri": "https://localhost:8080/"
        },
        "outputId": "15b28378-1578-46a3-d516-36001cea12c8"
      },
      "source": [
        "!sudo apt-get install libffi-dev"
      ],
      "execution_count": null,
      "outputs": [
        {
          "output_type": "stream",
          "text": [
            "Reading package lists... Done\n",
            "Building dependency tree       \n",
            "Reading state information... Done\n",
            "libffi-dev is already the newest version (3.2.1-8).\n",
            "0 upgraded, 0 newly installed, 0 to remove and 38 not upgraded.\n"
          ],
          "name": "stdout"
        }
      ]
    },
    {
      "cell_type": "code",
      "metadata": {
        "id": "EeTysn9dntOO",
        "colab": {
          "base_uri": "https://localhost:8080/"
        },
        "outputId": "6d5eb4a4-b161-4536-f954-02a468f9402f"
      },
      "source": [
        "!buildozer init"
      ],
      "execution_count": null,
      "outputs": [
        {
          "output_type": "stream",
          "text": [
            "\u001b[91m\u001b[1mBuildozer is running as root!\u001b[0m\n",
            "\u001b[91mThis is \u001b[1mnot\u001b[0m \u001b[91mrecommended, and may lead to problems later.\u001b[0m\n",
            "Are you sure you want to continue [y/n]? y\n",
            "File buildozer.spec created, ready to customize!\n",
            "\u001b[0m"
          ],
          "name": "stdout"
        }
      ]
    },
    {
      "cell_type": "markdown",
      "metadata": {
        "id": "p9CLnWDTJF1Q"
      },
      "source": [
        "左のフォルダのように見えるアイコンからbuildozer.specを探し、必要によりbuildozer.specを編集してください。"
      ]
    },
    {
      "cell_type": "code",
      "metadata": {
        "id": "tLbircO10N0a",
        "colab": {
          "base_uri": "https://localhost:8080/"
        },
        "outputId": "47c099a5-89c4-4c92-a9fa-054e8789addf"
      },
      "source": [
        "!buildozer -v android debug"
      ],
      "execution_count": null,
      "outputs": [
        {
          "output_type": "stream",
          "text": [
            "\u001b[39m\u001b[0m\u001b[36m# Check configuration tokens\u001b[39m\u001b[0m\n",
            "\u001b[91m\u001b[1mBuildozer is running as root!\u001b[0m\n",
            "\u001b[91mThis is \u001b[1mnot\u001b[0m \u001b[91mrecommended, and may lead to problems later.\u001b[0m\n",
            "Are you sure you want to continue [y/n]? y\n",
            "\u001b[39m\u001b[0m\u001b[36m# Ensure build layout\u001b[39m\u001b[0m\n",
            "\u001b[39m\u001b[0m\u001b[36m# Check configuration tokens\u001b[39m\u001b[0m\n",
            "\u001b[39m\u001b[0m\u001b[36m# Preparing build\u001b[39m\u001b[0m\n",
            "\u001b[39m\u001b[0m\u001b[36m# Check requirements for android\u001b[39m\u001b[0m\n",
            "\u001b[39m\u001b[0m\u001b[30m\u001b[1m# Run 'dpkg --version'\u001b[39m\u001b[0m\n",
            "\u001b[39m\u001b[0m\u001b[30m\u001b[1m# Cwd None\u001b[39m\u001b[0m\n",
            "Debian 'dpkg' package management program version 1.19.0.5 (amd64).\n",
            "This is free software; see the GNU General Public License version 2 or\n",
            "later for copying conditions. There is NO warranty.\n",
            "\u001b[39m\u001b[0m\u001b[30m\u001b[1m# Search for Git (git)\u001b[39m\u001b[0m\n",
            "\u001b[39m\u001b[0m\u001b[30m\u001b[1m#  -> found at /usr/bin/git\u001b[39m\u001b[0m\n",
            "\u001b[39m\u001b[0m\u001b[30m\u001b[1m# Search for Cython (cython)\u001b[39m\u001b[0m\n",
            "\u001b[39m\u001b[0m\u001b[30m\u001b[1m#  -> found at /usr/local/bin/cython\u001b[39m\u001b[0m\n",
            "\u001b[39m\u001b[0m\u001b[30m\u001b[1m# Search for Java compiler (javac)\u001b[39m\u001b[0m\n",
            "\u001b[39m\u001b[0m\u001b[30m\u001b[1m#  -> found at /usr/lib/jvm/java-11-openjdk-amd64/bin/javac\u001b[39m\u001b[0m\n",
            "\u001b[39m\u001b[0m\u001b[30m\u001b[1m# Search for Java keytool (keytool)\u001b[39m\u001b[0m\n",
            "\u001b[39m\u001b[0m\u001b[30m\u001b[1m#  -> found at /usr/lib/jvm/java-11-openjdk-amd64/bin/keytool\u001b[39m\u001b[0m\n",
            "\u001b[39m\u001b[0m\u001b[36m# Install platform\u001b[39m\u001b[0m\n",
            "\u001b[39m\u001b[0m\u001b[30m\u001b[1m# Run 'git config --get remote.origin.url'\u001b[39m\u001b[0m\n",
            "\u001b[39m\u001b[0m\u001b[30m\u001b[1m# Cwd /content/.buildozer/android/platform/python-for-android\u001b[39m\u001b[0m\n",
            "https://github.com/kivy/python-for-android.git\n",
            "\u001b[39m\u001b[0m\u001b[30m\u001b[1m# Run 'git branch -vv'\u001b[39m\u001b[0m\n",
            "\u001b[39m\u001b[0m\u001b[30m\u001b[1m# Cwd /content/.buildozer/android/platform/python-for-android\u001b[39m\u001b[0m\n",
            "* master 5a94d074 [origin/master] Merge pull request #2244 from Chronolife-team/native_services_upstream\n",
            "\u001b[39m\u001b[0m\u001b[30m\u001b[1m# Run '/usr/bin/python3 -m pip install -q --user \\'appdirs\\' \\'colorama>=0.3.3\\' \\'jinja2\\' \\'six\\' \\'enum34; python_version<\"3.4\"\\' \\'sh>=1.10; sys_platform!=\"nt\"\\' \\'pep517<0.7.0\"\\' \\'toml\\''\u001b[39m\u001b[0m\n",
            "\u001b[39m\u001b[0m\u001b[30m\u001b[1m# Cwd None\u001b[39m\u001b[0m\n",
            "\u001b[39m\u001b[0m\u001b[36m# Apache ANT found at /root/.buildozer/android/platform/apache-ant-1.9.4\u001b[39m\u001b[0m\n",
            "\u001b[39m\u001b[0m\u001b[36m# Android SDK found at /root/.buildozer/android/platform/android-sdk\u001b[39m\u001b[0m\n",
            "\u001b[39m\u001b[0m\u001b[36m# Recommended android's NDK version by p4a is: 19c\u001b[39m\u001b[0m\n",
            "\u001b[39m\u001b[0m\u001b[36m# Android NDK found at /root/.buildozer/android/platform/android-ndk-r19c\u001b[39m\u001b[0m\n",
            "\u001b[39m\u001b[0m\u001b[36m# Check application requirements\u001b[39m\u001b[0m\n",
            "\u001b[39m\u001b[0m\u001b[36m# Check garden requirements\u001b[39m\u001b[0m\n",
            "\u001b[39m\u001b[0m\u001b[36m# Compile platform\u001b[39m\u001b[0m\n",
            "\u001b[39m\u001b[0m\u001b[30m\u001b[1m# Run '/usr/bin/python3 -m pythonforandroid.toolchain create --dist_name=myapp --bootstrap=sdl2 --requirements=python3,kivy --arch armeabi-v7a --copy-libs --color=always --storage-dir=\"/content/.buildozer/android/platform/build-armeabi-v7a\" --ndk-api=21'\u001b[39m\u001b[0m\n",
            "\u001b[39m\u001b[0m\u001b[30m\u001b[1m# Cwd /content/.buildozer/android/platform/python-for-android\u001b[39m\u001b[0m\n",
            "/content/.buildozer/android/platform/python-for-android/pythonforandroid/toolchain.py:84: DeprecationWarning: the imp module is deprecated in favour of importlib; see the module's documentation for alternative uses\n",
            "  import imp\n",
            "\u001b[1m[INFO]\u001b[0m:    Will compile for the following archs: armeabi-v7a\n",
            "\u001b[1m[INFO]\u001b[0m:    Found Android API target in $ANDROIDAPI: 27\n",
            "\u001b[1m[INFO]\u001b[0m:    Available Android APIs are (27)\n",
            "\u001b[1m[INFO]\u001b[0m:    Requested API target 27 is available, continuing.\n",
            "\u001b[1m[INFO]\u001b[0m:    Found NDK dir in $ANDROIDNDK: /root/.buildozer/android/platform/android-ndk-r19c\n",
            "\u001b[1m[INFO]\u001b[0m:    Found NDK version 19c\n",
            "\u001b[1m[INFO]\u001b[0m:    Getting NDK API version (i.e. minimum supported API) from user argument\n",
            "\u001b[1m[INFO]\u001b[0m:    ccache is missing, the build will not be optimized in the future.\n",
            "\u001b[1m[INFO]\u001b[0m:    Found the following toolchain versions: ['4.9']\n",
            "\u001b[1m[INFO]\u001b[0m:    Picking the latest gcc toolchain, here 4.9\n",
            "\u001b[1m[INFO]\u001b[0m:    Of the existing distributions, the following meet the given requirements:\n",
            "\u001b[1m[INFO]\u001b[0m:    \t\u001b[32m\u001b[1mmyapp\u001b[0m: min API 21, includes recipes (\u001b[32mhostpython3, libffi, openssl, sdl2_image, sdl2_mixer, sdl2_ttf, sqlite3, python3, sdl2, setuptools, six, pyjnius, android, kivy, certifi\u001b[0m), built for archs (\u001b[34marmeabi-v7a\u001b[0m)\n",
            "\u001b[1m[INFO]\u001b[0m:    \u001b[1m\u001b[94mmyapp has compatible recipes, using this one\u001b[0m\n",
            "\u001b[39m\u001b[0m\u001b[36m# Build the application #2\u001b[39m\u001b[0m\n",
            "\u001b[39m\u001b[0m\u001b[30m\u001b[1m# Copy application source from /content\u001b[39m\u001b[0m\n",
            "\u001b[39m\u001b[0m\u001b[30m\u001b[1m# Create directory /content/.buildozer/android/app\u001b[39m\u001b[0m\n",
            "\u001b[39m\u001b[0m\u001b[30m\u001b[1m# Copy /content/main.py\u001b[39m\u001b[0m\n",
            "\u001b[39m\u001b[0m\u001b[36m# Package the application\u001b[39m\u001b[0m\n",
            "\u001b[39m\u001b[0m\u001b[30m\u001b[1m# project.properties updated\u001b[39m\u001b[0m\n",
            "\u001b[39m\u001b[0m\u001b[36m# Gradle project detected, copy files /content/.buildozer/android/platform/build-armeabi-v7a/dists/myapp__armeabi-v7a/src/main/java\u001b[39m\u001b[0m\n",
            "\u001b[39m\u001b[0m\u001b[30m\u001b[1m# Run '/usr/bin/python3 -m pythonforandroid.toolchain apk --debug --bootstrap=sdl2 --dist_name myapp --name \\'My Application\\' --version 0.1 --package org.test.myapp --minsdk 21 --ndk-api 21 --private /content/.buildozer/android/app --android-entrypoint org.kivy.android.PythonActivity --android-apptheme @android:style/Theme.NoTitleBar --orientation portrait --window --copy-libs --arch armeabi-v7a --color=always --storage-dir=\"/content/.buildozer/android/platform/build-armeabi-v7a\" --ndk-api=21'\u001b[39m\u001b[0m\n",
            "\u001b[39m\u001b[0m\u001b[30m\u001b[1m# Cwd /content/.buildozer/android/platform/python-for-android\u001b[39m\u001b[0m\n",
            "/content/.buildozer/android/platform/python-for-android/pythonforandroid/toolchain.py:84: DeprecationWarning: the imp module is deprecated in favour of importlib; see the module's documentation for alternative uses\n",
            "  import imp\n",
            "\u001b[1m[INFO]\u001b[0m:    Will compile for the following archs: armeabi-v7a\n",
            "\u001b[1m[INFO]\u001b[0m:    Found Android API target in $ANDROIDAPI: 27\n",
            "\u001b[1m[INFO]\u001b[0m:    Available Android APIs are (27)\n",
            "\u001b[1m[INFO]\u001b[0m:    Requested API target 27 is available, continuing.\n",
            "\u001b[1m[INFO]\u001b[0m:    Found NDK dir in $ANDROIDNDK: /root/.buildozer/android/platform/android-ndk-r19c\n",
            "\u001b[1m[INFO]\u001b[0m:    Found NDK version 19c\n",
            "\u001b[1m[INFO]\u001b[0m:    Getting NDK API version (i.e. minimum supported API) from user argument\n",
            "\u001b[1m[INFO]\u001b[0m:    ccache is missing, the build will not be optimized in the future.\n",
            "\u001b[1m[INFO]\u001b[0m:    Found the following toolchain versions: ['4.9']\n",
            "\u001b[1m[INFO]\u001b[0m:    Picking the latest gcc toolchain, here 4.9\n",
            "\u001b[1m[INFO]\u001b[0m:    Of the existing distributions, the following meet the given requirements:\n",
            "\u001b[1m[INFO]\u001b[0m:    \t\u001b[32m\u001b[1mmyapp\u001b[0m: min API 21, includes recipes (\u001b[32mhostpython3, libffi, openssl, sdl2_image, sdl2_mixer, sdl2_ttf, sqlite3, python3, sdl2, setuptools, six, pyjnius, android, kivy, certifi\u001b[0m), built for archs (\u001b[34marmeabi-v7a\u001b[0m)\n",
            "\u001b[1m[INFO]\u001b[0m:    \u001b[1m\u001b[94mmyapp has compatible recipes, using this one\u001b[0m\n",
            "\u001b[1m[INFO]\u001b[0m:    Of the existing distributions, the following meet the given requirements:\n",
            "\u001b[1m[INFO]\u001b[0m:    \t\u001b[32m\u001b[1mmyapp\u001b[0m: min API 21, includes recipes (\u001b[32mhostpython3, libffi, openssl, sdl2_image, sdl2_mixer, sdl2_ttf, sqlite3, python3, sdl2, setuptools, six, pyjnius, android, kivy, certifi\u001b[0m), built for archs (\u001b[34marmeabi-v7a\u001b[0m)\n",
            "\u001b[1m[INFO]\u001b[0m:    \u001b[1m\u001b[94mmyapp has compatible recipes, using this one\u001b[0m\n",
            "\u001b[1m[INFO]\u001b[0m:    \u001b[36m-> directory context /content/.buildozer/android/platform/build-armeabi-v7a/build/bootstrap_builds/sdl2\u001b[39m\n",
            "\u001b[1m[INFO]\u001b[0m:    \u001b[36m<- directory context /content/.buildozer/android/platform/python-for-android\u001b[39m\n",
            "\u001b[1m[INFO]\u001b[0m:    \u001b[36m-> directory context /content/.buildozer/android/platform/build-armeabi-v7a/dists/myapp__armeabi-v7a\u001b[39m\n",
            "Listing '/tmp/p4a-extra-env-4r3sfw_z'...\n",
            "Listing '/content/.buildozer/android/app'...\n",
            "Listing '/content/.buildozer/android/app/_applibs'...\n",
            "Compiling '/content/.buildozer/android/app/main.py'...\n",
            "Compiling '/content/.buildozer/android/app/sitecustomize.py'...\n",
            "Listing '/content/.buildozer/android/platform/build-armeabi-v7a/dists/myapp__armeabi-v7a/_python_bundle'...\n",
            "Listing '/content/.buildozer/android/platform/build-armeabi-v7a/dists/myapp__armeabi-v7a/_python_bundle/_python_bundle'...\n",
            "Listing '/content/.buildozer/android/platform/build-armeabi-v7a/dists/myapp__armeabi-v7a/_python_bundle/_python_bundle/modules'...\n",
            "Listing '/content/.buildozer/android/platform/build-armeabi-v7a/dists/myapp__armeabi-v7a/_python_bundle/_python_bundle/site-packages'...\n",
            "Listing '/content/.buildozer/android/platform/build-armeabi-v7a/dists/myapp__armeabi-v7a/_python_bundle/_python_bundle/site-packages/Kivy-1.11.1-py3.8.egg-info'...\n",
            "Listing '/content/.buildozer/android/platform/build-armeabi-v7a/dists/myapp__armeabi-v7a/_python_bundle/_python_bundle/site-packages/android'...\n",
            "Listing '/content/.buildozer/android/platform/build-armeabi-v7a/dists/myapp__armeabi-v7a/_python_bundle/_python_bundle/site-packages/certifi'...\n",
            "Listing '/content/.buildozer/android/platform/build-armeabi-v7a/dists/myapp__armeabi-v7a/_python_bundle/_python_bundle/site-packages/certifi-2021.5.30.dist-info'...\n",
            "Listing '/content/.buildozer/android/platform/build-armeabi-v7a/dists/myapp__armeabi-v7a/_python_bundle/_python_bundle/site-packages/jnius'...\n",
            "Listing '/content/.buildozer/android/platform/build-armeabi-v7a/dists/myapp__armeabi-v7a/_python_bundle/_python_bundle/site-packages/jnius/src'...\n",
            "Listing '/content/.buildozer/android/platform/build-armeabi-v7a/dists/myapp__armeabi-v7a/_python_bundle/_python_bundle/site-packages/jnius/src/org'...\n",
            "Listing '/content/.buildozer/android/platform/build-armeabi-v7a/dists/myapp__armeabi-v7a/_python_bundle/_python_bundle/site-packages/jnius/src/org/jnius'...\n",
            "Listing '/content/.buildozer/android/platform/build-armeabi-v7a/dists/myapp__armeabi-v7a/_python_bundle/_python_bundle/site-packages/kivy'...\n",
            "Listing '/content/.buildozer/android/platform/build-armeabi-v7a/dists/myapp__armeabi-v7a/_python_bundle/_python_bundle/site-packages/kivy/core'...\n",
            "Listing '/content/.buildozer/android/platform/build-armeabi-v7a/dists/myapp__armeabi-v7a/_python_bundle/_python_bundle/site-packages/kivy/core/audio'...\n",
            "Listing '/content/.buildozer/android/platform/build-armeabi-v7a/dists/myapp__armeabi-v7a/_python_bundle/_python_bundle/site-packages/kivy/core/camera'...\n",
            "Listing '/content/.buildozer/android/platform/build-armeabi-v7a/dists/myapp__armeabi-v7a/_python_bundle/_python_bundle/site-packages/kivy/core/clipboard'...\n",
            "Listing '/content/.buildozer/android/platform/build-armeabi-v7a/dists/myapp__armeabi-v7a/_python_bundle/_python_bundle/site-packages/kivy/core/gl'...\n",
            "Listing '/content/.buildozer/android/platform/build-armeabi-v7a/dists/myapp__armeabi-v7a/_python_bundle/_python_bundle/site-packages/kivy/core/image'...\n",
            "Listing '/content/.buildozer/android/platform/build-armeabi-v7a/dists/myapp__armeabi-v7a/_python_bundle/_python_bundle/site-packages/kivy/core/spelling'...\n",
            "Listing '/content/.buildozer/android/platform/build-armeabi-v7a/dists/myapp__armeabi-v7a/_python_bundle/_python_bundle/site-packages/kivy/core/text'...\n",
            "Listing '/content/.buildozer/android/platform/build-armeabi-v7a/dists/myapp__armeabi-v7a/_python_bundle/_python_bundle/site-packages/kivy/core/video'...\n",
            "Listing '/content/.buildozer/android/platform/build-armeabi-v7a/dists/myapp__armeabi-v7a/_python_bundle/_python_bundle/site-packages/kivy/core/window'...\n",
            "Listing '/content/.buildozer/android/platform/build-armeabi-v7a/dists/myapp__armeabi-v7a/_python_bundle/_python_bundle/site-packages/kivy/data'...\n",
            "Listing '/content/.buildozer/android/platform/build-armeabi-v7a/dists/myapp__armeabi-v7a/_python_bundle/_python_bundle/site-packages/kivy/data/fonts'...\n",
            "Listing '/content/.buildozer/android/platform/build-armeabi-v7a/dists/myapp__armeabi-v7a/_python_bundle/_python_bundle/site-packages/kivy/data/glsl'...\n",
            "Listing '/content/.buildozer/android/platform/build-armeabi-v7a/dists/myapp__armeabi-v7a/_python_bundle/_python_bundle/site-packages/kivy/data/images'...\n",
            "Listing '/content/.buildozer/android/platform/build-armeabi-v7a/dists/myapp__armeabi-v7a/_python_bundle/_python_bundle/site-packages/kivy/data/keyboards'...\n",
            "Listing '/content/.buildozer/android/platform/build-armeabi-v7a/dists/myapp__armeabi-v7a/_python_bundle/_python_bundle/site-packages/kivy/data/logo'...\n",
            "Listing '/content/.buildozer/android/platform/build-armeabi-v7a/dists/myapp__armeabi-v7a/_python_bundle/_python_bundle/site-packages/kivy/deps'...\n",
            "Listing '/content/.buildozer/android/platform/build-armeabi-v7a/dists/myapp__armeabi-v7a/_python_bundle/_python_bundle/site-packages/kivy/effects'...\n",
            "Listing '/content/.buildozer/android/platform/build-armeabi-v7a/dists/myapp__armeabi-v7a/_python_bundle/_python_bundle/site-packages/kivy/extras'...\n",
            "Listing '/content/.buildozer/android/platform/build-armeabi-v7a/dists/myapp__armeabi-v7a/_python_bundle/_python_bundle/site-packages/kivy/garden'...\n",
            "Listing '/content/.buildozer/android/platform/build-armeabi-v7a/dists/myapp__armeabi-v7a/_python_bundle/_python_bundle/site-packages/kivy/graphics'...\n",
            "Listing '/content/.buildozer/android/platform/build-armeabi-v7a/dists/myapp__armeabi-v7a/_python_bundle/_python_bundle/site-packages/kivy/graphics/cgl_backend'...\n",
            "Listing '/content/.buildozer/android/platform/build-armeabi-v7a/dists/myapp__armeabi-v7a/_python_bundle/_python_bundle/site-packages/kivy/include'...\n",
            "Listing '/content/.buildozer/android/platform/build-armeabi-v7a/dists/myapp__armeabi-v7a/_python_bundle/_python_bundle/site-packages/kivy/input'...\n",
            "Listing '/content/.buildozer/android/platform/build-armeabi-v7a/dists/myapp__armeabi-v7a/_python_bundle/_python_bundle/site-packages/kivy/input/postproc'...\n",
            "Listing '/content/.buildozer/android/platform/build-armeabi-v7a/dists/myapp__armeabi-v7a/_python_bundle/_python_bundle/site-packages/kivy/input/providers'...\n",
            "Listing '/content/.buildozer/android/platform/build-armeabi-v7a/dists/myapp__armeabi-v7a/_python_bundle/_python_bundle/site-packages/kivy/lang'...\n",
            "Listing '/content/.buildozer/android/platform/build-armeabi-v7a/dists/myapp__armeabi-v7a/_python_bundle/_python_bundle/site-packages/kivy/lib'...\n",
            "Listing '/content/.buildozer/android/platform/build-armeabi-v7a/dists/myapp__armeabi-v7a/_python_bundle/_python_bundle/site-packages/kivy/lib/gstplayer'...\n",
            "Listing '/content/.buildozer/android/platform/build-armeabi-v7a/dists/myapp__armeabi-v7a/_python_bundle/_python_bundle/site-packages/kivy/lib/vidcore_lite'...\n",
            "Listing '/content/.buildozer/android/platform/build-armeabi-v7a/dists/myapp__armeabi-v7a/_python_bundle/_python_bundle/site-packages/kivy/modules'...\n",
            "Listing '/content/.buildozer/android/platform/build-armeabi-v7a/dists/myapp__armeabi-v7a/_python_bundle/_python_bundle/site-packages/kivy/network'...\n",
            "Listing '/content/.buildozer/android/platform/build-armeabi-v7a/dists/myapp__armeabi-v7a/_python_bundle/_python_bundle/site-packages/kivy/storage'...\n",
            "Listing '/content/.buildozer/android/platform/build-armeabi-v7a/dists/myapp__armeabi-v7a/_python_bundle/_python_bundle/site-packages/kivy/tools'...\n",
            "Listing '/content/.buildozer/android/platform/build-armeabi-v7a/dists/myapp__armeabi-v7a/_python_bundle/_python_bundle/site-packages/kivy/tools/gles_compat'...\n",
            "Listing '/content/.buildozer/android/platform/build-armeabi-v7a/dists/myapp__armeabi-v7a/_python_bundle/_python_bundle/site-packages/kivy/tools/highlight'...\n",
            "Listing '/content/.buildozer/android/platform/build-armeabi-v7a/dists/myapp__armeabi-v7a/_python_bundle/_python_bundle/site-packages/kivy/tools/packaging'...\n",
            "Listing '/content/.buildozer/android/platform/build-armeabi-v7a/dists/myapp__armeabi-v7a/_python_bundle/_python_bundle/site-packages/kivy/tools/packaging/pyinstaller_hooks'...\n",
            "Listing '/content/.buildozer/android/platform/build-armeabi-v7a/dists/myapp__armeabi-v7a/_python_bundle/_python_bundle/site-packages/kivy/tools/pep8checker'...\n",
            "Listing '/content/.buildozer/android/platform/build-armeabi-v7a/dists/myapp__armeabi-v7a/_python_bundle/_python_bundle/site-packages/kivy/tools/theming'...\n",
            "Listing '/content/.buildozer/android/platform/build-armeabi-v7a/dists/myapp__armeabi-v7a/_python_bundle/_python_bundle/site-packages/kivy/tools/theming/defaulttheme'...\n",
            "Listing '/content/.buildozer/android/platform/build-armeabi-v7a/dists/myapp__armeabi-v7a/_python_bundle/_python_bundle/site-packages/kivy/uix'...\n",
            "Listing '/content/.buildozer/android/platform/build-armeabi-v7a/dists/myapp__armeabi-v7a/_python_bundle/_python_bundle/site-packages/kivy/uix/behaviors'...\n",
            "Listing '/content/.buildozer/android/platform/build-armeabi-v7a/dists/myapp__armeabi-v7a/_python_bundle/_python_bundle/site-packages/kivy/uix/recycleview'...\n",
            "Listing '/content/.buildozer/android/platform/build-armeabi-v7a/dists/myapp__armeabi-v7a/_python_bundle/_python_bundle/site-packages/pkg_resources'...\n",
            "Listing '/content/.buildozer/android/platform/build-armeabi-v7a/dists/myapp__armeabi-v7a/_python_bundle/_python_bundle/site-packages/pkg_resources/_vendor'...\n",
            "Listing '/content/.buildozer/android/platform/build-armeabi-v7a/dists/myapp__armeabi-v7a/_python_bundle/_python_bundle/site-packages/pkg_resources/_vendor/packaging'...\n",
            "Listing '/content/.buildozer/android/platform/build-armeabi-v7a/dists/myapp__armeabi-v7a/_python_bundle/_python_bundle/site-packages/pkg_resources/extern'...\n",
            "Listing '/content/.buildozer/android/platform/build-armeabi-v7a/dists/myapp__armeabi-v7a/_python_bundle/_python_bundle/site-packages/pyjnius-1.2.1-py3.8.egg-info'...\n",
            "Listing '/content/.buildozer/android/platform/build-armeabi-v7a/dists/myapp__armeabi-v7a/_python_bundle/_python_bundle/site-packages/setuptools'...\n",
            "Listing '/content/.buildozer/android/platform/build-armeabi-v7a/dists/myapp__armeabi-v7a/_python_bundle/_python_bundle/site-packages/setuptools/_vendor'...\n",
            "Listing '/content/.buildozer/android/platform/build-armeabi-v7a/dists/myapp__armeabi-v7a/_python_bundle/_python_bundle/site-packages/setuptools/_vendor/packaging'...\n",
            "Listing '/content/.buildozer/android/platform/build-armeabi-v7a/dists/myapp__armeabi-v7a/_python_bundle/_python_bundle/site-packages/setuptools/command'...\n",
            "Listing '/content/.buildozer/android/platform/build-armeabi-v7a/dists/myapp__armeabi-v7a/_python_bundle/_python_bundle/site-packages/setuptools/extern'...\n",
            "Listing '/content/.buildozer/android/platform/build-armeabi-v7a/dists/myapp__armeabi-v7a/_python_bundle/_python_bundle/site-packages/setuptools-40.9.0-py3.8.egg-info'...\n",
            "Listing '/content/.buildozer/android/platform/build-armeabi-v7a/dists/myapp__armeabi-v7a/_python_bundle/_python_bundle/site-packages/usr'...\n",
            "Listing '/content/.buildozer/android/platform/build-armeabi-v7a/dists/myapp__armeabi-v7a/_python_bundle/_python_bundle/site-packages/usr/local'...\n",
            "Listing '/content/.buildozer/android/platform/build-armeabi-v7a/dists/myapp__armeabi-v7a/_python_bundle/_python_bundle/site-packages/usr/local/bin'...\n",
            "\u001b[1m[INFO]\u001b[0m:    Detected highest available build tools version to be 31.0.0-rc5\n",
            "\u001b[1m\u001b[90m[DEBUG]\u001b[39m\u001b[0m:   \u001b[90m->\u001b[0m running gradlew assembleDebug\u001b[0m\n",
            "\u001b[1m\u001b[90m[DEBUG]\u001b[39m\u001b[0m:   \t\n",
            "\u001b[1m\u001b[90m[DEBUG]\u001b[39m\u001b[0m:   \t\n",
            "\u001b[1m\u001b[90m[DEBUG]\u001b[39m\u001b[0m:   \t\u001b[2A\u001b[1m<\u001b[0;1m-------------> 0% CONFIGURING [49ms]\u001b[m\u001b[37D\u001b[1B\u001b[1m> root project\u001b[m\u001b[14D\u001b[1B\u001b[2A\u001b[1m<\u001b[0;1m-------------> 0% CONFIGURING [149ms]\u001b[m\u001b[38D\u001b[1B\u001b[1m> root project > Resolve dependencies of :classpath\u001b[m\u001b[51D\u001b[1B\u001b[2A\u001b[1m<\u001b[0;1m-------------> 0% CONFIGURING [249ms]\u001b[m\u001b[38D\u001b[1B\u001b[1m> root project\u001b[m\u001b[0K\u001b[14D\u001b[1B\u001b[2A\u001b[1m<\u001b[0;1m-------------> 0% CONFIGURING [349ms]\u001b[m\u001b[38D\u001b[2B\u001b[2A\u001b[1m<\u001b[0;1m-------------> 0% CONFIGURING [449ms]\u001b[m\u001b[38D\u001b[2B\u001b[2A\u001b[1m<\u001b[0;32;1m=============\u001b[0;39;1m> 100% CONFIGURING [549ms]\u001b[m\u001b[40D\u001b[1B> IDLE\u001b[0K\u001b[6D\u001b[1B\u001b[2A\u001b[1m<\u001b[0;1m-------------> 2% EXECUTING [649ms]\u001b[m\u001b[0K\u001b[36D\u001b[1B\u001b[1m> :preDebugBuild\u001b[m\u001b[16D\u001b[1B\u001b[2A\u001b[1m<\u001b[0;32;1m===\u001b[0;39;1m----------> 28% EXECUTING [749ms]\u001b[m\u001b[37D\u001b[1B\u001b[1m> :mergeDebugResources\u001b[m\u001b[22D\u001b[1B\u001b[2A\u001b[1m<\u001b[0;32;1m===\u001b[0;39;1m----------> 28% EXECUTING [849ms]\u001b[m\u001b[37D\u001b[2B\u001b[2A\u001b[1m<\u001b[0;32;1m=====\u001b[0;39;1m--------> 40% EXECUTING [949ms]\u001b[m\u001b[37D\u001b[1B\u001b[1m> :processDebugResources\u001b[m\u001b[24D\u001b[1B\u001b[2A\u001b[1m<\u001b[0;32;1m=====\u001b[0;39;1m--------> 40% EXECUTING [1s]\u001b[m\u001b[0K\u001b[34D\u001b[2B\u001b[2A\u001b[1m<\u001b[0;32;1m======\u001b[0;39;1m-------> 48% EXECUTING [1s]\u001b[m\u001b[34D\u001b[1B\u001b[1m> :compileDebugJavaWithJavac\u001b[m\u001b[28D\u001b[1B\u001b[2A\u001b[1m<\u001b[0;32;1m========\u001b[0;39;1m-----> 65% EXECUTING [1s]\u001b[m\u001b[34D\u001b[1B\u001b[1m> :mergeDebugAssets\u001b[m\u001b[0K\u001b[19D\u001b[1B\u001b[2A\u001b[1m<\u001b[0;32;1m=========\u001b[0;39;1m----> 71% EXECUTING [1s]\u001b[m\u001b[34D\u001b[1B\u001b[1m> :transformDexArchiveWithExternalLibsDexMergerForDebug\u001b[m\u001b[55D\u001b[1B\u001b[2A\u001b[1m<\u001b[0;32;1m============\u001b[0;39;1m-> 94% EXECUTING [1s]\u001b[m\u001b[34D\u001b[1B\u001b[1m> :packageDebug\u001b[m\u001b[0K\u001b[15D\u001b[1B\u001b[2A\u001b[1m<\u001b[0;32;1m============\u001b[0;39;1m-> 94% EXECUTING [2s]\u001b[m\u001b[34D\u001b[2B\u001b[2A\u001b[0K\n",
            "\u001b[1m\u001b[90m[DEBUG]\u001b[39m\u001b[0m:   \tDeprecated Gradle features were used in this build, making it incompatible with Gradle 7.0.\n",
            "\u001b[1m\u001b[90m[DEBUG]\u001b[39m\u001b[0m:   \tUse '--warning-mode all' to show the individual deprecation warnings.\n",
            "\u001b[1m\u001b[90m[DEBUG]\u001b[39m\u001b[0m:   \tSee https://docs.gradle.org/6.4.1/userguide/command_line_interface.html#sec:command_line_warnings\n",
            "\u001b[1m\u001b[90m[DEBUG]\u001b[39m\u001b[0m:   \t\n",
            "\u001b[1m\u001b[90m[DEBUG]\u001b[39m\u001b[0m:   \t\u001b[32;1mBUILD SUCCESSFUL\u001b[0;39m in 3s\n",
            "\u001b[1m\u001b[90m[DEBUG]\u001b[39m\u001b[0m:   \t27 actionable tasks: 4 executed, 23 up-to-date\n",
            "\u001b[1m\u001b[90m[DEBUG]\u001b[39m\u001b[0m:   \t\u001b[0K\n",
            "\u001b[1m\u001b[90m[DEBUG]\u001b[39m\u001b[0m:   \t\u001b[0K\n",
            "\u001b[1m\u001b[90m[DEBUG]\u001b[39m\u001b[0m:   \t\u001b[2A\u001b[1m<\u001b[0;1m-------------> 0% WAITING\u001b[m\u001b[26D\u001b[1B> IDLE\u001b[6D\u001b[1B\u001b[2A\u001b[2K\u001b[1B\u001b[2K\u001b[1A\u001b[m\n",
            "\u001b[1m[INFO]\u001b[0m:    \u001b[36m<- directory context /content/.buildozer/android/platform/python-for-android\u001b[39m\n",
            "\u001b[1m[INFO]\u001b[0m:    Of the existing distributions, the following meet the given requirements:\n",
            "\u001b[1m[INFO]\u001b[0m:    \t\u001b[32m\u001b[1mmyapp\u001b[0m: min API 21, includes recipes (\u001b[32mhostpython3, libffi, openssl, sdl2_image, sdl2_mixer, sdl2_ttf, sqlite3, python3, sdl2, setuptools, six, pyjnius, android, kivy, certifi\u001b[0m), built for archs (\u001b[34marmeabi-v7a\u001b[0m)\n",
            "\u001b[1m[INFO]\u001b[0m:    \u001b[1m\u001b[94mmyapp has compatible recipes, using this one\u001b[0m\n",
            "\u001b[1m[INFO]\u001b[0m:    \u001b[1m\u001b[32m# Copying android package to current directory\u001b[0m\u001b[39m\n",
            "\u001b[1m[INFO]\u001b[0m:    \u001b[1m\u001b[32m# Android package filename not found in build output. Guessing...\u001b[0m\u001b[39m\n",
            "\u001b[1m[INFO]\u001b[0m:    \u001b[1m\u001b[32m# Found android package file: /content/.buildozer/android/platform/build-armeabi-v7a/dists/myapp__armeabi-v7a/build/outputs/apk/debug/myapp__armeabi-v7a-debug.apk\u001b[0m\u001b[39m\n",
            "\u001b[1m[INFO]\u001b[0m:    # Add version number to android package\n",
            "\u001b[1m[INFO]\u001b[0m:    # Android package renamed to myapp__armeabi-v7a-debug-0.1-.apk\n",
            "\u001b[1m\u001b[90m[DEBUG]\u001b[39m\u001b[0m:   \u001b[90m->\u001b[0m running cp /content/.buildozer/android/platform/build-armeabi-v7a/dists/myapp__armeabi-v7a/build/outputs/apk/debug/myapp__armeabi-v7a-debug.apk myapp__armeabi-v7a-debug-0.1-.apk\u001b[0m\n",
            "WARNING: Received a --sdk argument, but this argument is deprecated and does nothing.\n",
            "No setup.py/pyproject.toml used, copying full private data into .apk.\n",
            "Applying Java source code patches...\n",
            "Applying patch: src/patches/SDLActivity.java.patch\n",
            "Warning: failed to apply patch (exit code 1), assuming it is already applied:  src/patches/SDLActivity.java.patch\n",
            "\u001b[39m\u001b[0m\u001b[36m# Android packaging done!\u001b[39m\u001b[0m\n",
            "\u001b[39m\u001b[0m\u001b[36m# APK myapp-0.1-armeabi-v7a-debug.apk available in the bin directory\u001b[39m\u001b[0m\n",
            "\u001b[0m"
          ],
          "name": "stdout"
        }
      ]
    },
    {
      "cell_type": "markdown",
      "metadata": {
        "id": "wDwRDpPxJsDJ"
      },
      "source": [
        "実行が終わるまでしばらく（20分）お待ちください。binフォルダーを確認するとAPKが取得されます。Androidスマホにダウンロードして実行します。"
      ]
    },
    {
      "cell_type": "markdown",
      "metadata": {
        "id": "fbTESJG6JrbP"
      },
      "source": [
        "最後は環境のクリア？\n"
      ]
    },
    {
      "cell_type": "code",
      "metadata": {
        "id": "YZPSi3j4oweu"
      },
      "source": [
        "!buildozer android clean"
      ],
      "execution_count": null,
      "outputs": []
    },
    {
      "cell_type": "code",
      "metadata": {
        "id": "wyVLXEgJFeqv"
      },
      "source": [
        ""
      ],
      "execution_count": null,
      "outputs": []
    },
    {
      "cell_type": "code",
      "metadata": {
        "id": "nfd6AszB4U16"
      },
      "source": [
        ""
      ],
      "execution_count": null,
      "outputs": []
    }
  ]
}